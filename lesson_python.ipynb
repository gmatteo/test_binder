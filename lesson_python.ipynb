{
 "cells": [
  {
   "cell_type": "markdown",
   "metadata": {
    "deletable": true,
    "editable": true
   },
   "source": [
    "Back to the main [Index](../index.ipynb)"
   ]
  },
  {
   "cell_type": "code",
   "execution_count": 1,
   "metadata": {
    "collapsed": false,
    "deletable": true,
    "editable": true
   },
   "outputs": [],
   "source": [
    "from __future__ import print_function, division"
   ]
  },
  {
   "cell_type": "markdown",
   "metadata": {
    "deletable": true,
    "editable": true
   },
   "source": [
    "What every AbiPy user should know about python\n",
    "==============================================\n",
    "\n",
    "This is an extremely short tutorial on python that uses examples \n",
    "taken from abipy to help you understand better the next lessons.\n",
    "At the end of this lesson, you should get a grasp of the the most important objects used in AbiPy.\n",
    "\n",
    "This notebook **does not** aim to give you a complete and consistent introduction to\n",
    "the python language.\n",
    "For a real crash course in python, we refer the reader to this excellent \n",
    "[notebook](http://nbviewer.ipython.org/gist/rpmuller/5920182)"
   ]
  },
  {
   "cell_type": "markdown",
   "metadata": {
    "deletable": true,
    "editable": true
   },
   "source": [
    "The dot '.'\n",
    "-----------\n",
    "\n",
    "If you are new to object oriented programming the *dot* may be a new construction. In python everything is an *object* and objects can have *properties* and *methods*. \n",
    "With the dot we select the property or the method associated to an object. \n",
    "\n",
    "The main difference between properties and methods is that methods receive arguments\n",
    "so you have to call them with the syntax `aobject.amethod(...)` where `...` is the list\n",
    "of arguments passed to the method (may be empty).\n",
    "On the contrary, one uses the syntax `aobject.aproperty` to access the property of `aobject`.\n",
    "\n",
    "For instance, the list:"
   ]
  },
  {
   "cell_type": "code",
   "execution_count": 2,
   "metadata": {
    "collapsed": false,
    "deletable": true,
    "editable": true
   },
   "outputs": [],
   "source": [
    "a = [2, 3, 1]"
   ]
  },
  {
   "cell_type": "markdown",
   "metadata": {
    "deletable": true,
    "editable": true
   },
   "source": [
    "provides the `sort` method that sorts the elements in `a` in place:"
   ]
  },
  {
   "cell_type": "code",
   "execution_count": 3,
   "metadata": {
    "collapsed": false,
    "deletable": true,
    "editable": true
   },
   "outputs": [
    {
     "data": {
      "text/plain": [
       "[1, 2, 3]"
      ]
     },
     "execution_count": 3,
     "metadata": {},
     "output_type": "execute_result"
    }
   ],
   "source": [
    "a.sort()\n",
    "a"
   ]
  },
  {
   "cell_type": "markdown",
   "metadata": {
    "deletable": true,
    "editable": true
   },
   "source": [
    "Note that we are calling `sort` without arguments but actually the `sort` method \n",
    "accepts optional arguments that can be used to modify the default behaviour.\n",
    "If we want to sort the items in `a` from the biggest to the smallest, we have to use:  "
   ]
  },
  {
   "cell_type": "code",
   "execution_count": 4,
   "metadata": {
    "collapsed": false,
    "deletable": true,
    "editable": true
   },
   "outputs": [
    {
     "data": {
      "text/plain": [
       "[3, 2, 1]"
      ]
     },
     "execution_count": 4,
     "metadata": {},
     "output_type": "execute_result"
    }
   ],
   "source": [
    "a.sort(reverse=True)\n",
    "a"
   ]
  },
  {
   "cell_type": "markdown",
   "metadata": {
    "deletable": true,
    "editable": true
   },
   "source": [
    "The `help` function allows one to get the so-called docstring \n",
    "that documents the usage of the object: "
   ]
  },
  {
   "cell_type": "code",
   "execution_count": 5,
   "metadata": {
    "collapsed": false,
    "deletable": true,
    "editable": true
   },
   "outputs": [
    {
     "name": "stdout",
     "output_type": "stream",
     "text": [
      "Help on built-in function sort:\n",
      "\n",
      "sort(...)\n",
      "    L.sort(cmp=None, key=None, reverse=False) -- stable sort *IN PLACE*;\n",
      "    cmp(x, y) -> -1, 0, 1\n",
      "\n"
     ]
    }
   ],
   "source": [
    "help(a.sort)"
   ]
  },
  {
   "cell_type": "markdown",
   "metadata": {
    "deletable": true,
    "editable": true
   },
   "source": [
    "In ipython you can use the alternative syntax `a.sort?` to display the docstring.\n",
    "You can even access the source code if `?` is replaced by `??` and the source code is available \n",
    "(some low-level python objects are implemented directly in the C language. \n",
    "In this case you cannot access the source from python with `??`)."
   ]
  },
  {
   "cell_type": "markdown",
   "metadata": {
    "deletable": true,
    "editable": true
   },
   "source": [
    "Importing modules\n",
    "-----------------\n",
    "\n",
    "To use objects defined in python modules, we need to *import* the module with the syntax:"
   ]
  },
  {
   "cell_type": "code",
   "execution_count": 6,
   "metadata": {
    "collapsed": false,
    "deletable": true,
    "editable": true
   },
   "outputs": [],
   "source": [
    "import sys"
   ]
  },
  {
   "cell_type": "markdown",
   "metadata": {
    "deletable": true,
    "editable": true
   },
   "source": [
    "Now we can access all the entities defined in the `sys` module with the `dot` syntax:"
   ]
  },
  {
   "cell_type": "code",
   "execution_count": 7,
   "metadata": {
    "collapsed": false,
    "deletable": true,
    "editable": true
   },
   "outputs": [
    {
     "data": {
      "text/plain": [
       "'2.7.13 |Anaconda 4.3.1 (x86_64)| (default, Dec 20 2016, 23:05:08) \\n[GCC 4.2.1 Compatible Apple LLVM 6.0 (clang-600.0.57)]'"
      ]
     },
     "execution_count": 7,
     "metadata": {},
     "output_type": "execute_result"
    }
   ],
   "source": [
    "# attribute of sys\n",
    "sys.version"
   ]
  },
  {
   "cell_type": "code",
   "execution_count": 8,
   "metadata": {
    "collapsed": false,
    "deletable": true,
    "editable": true
   },
   "outputs": [
    {
     "data": {
      "text/plain": [
       "'ascii'"
      ]
     },
     "execution_count": 8,
     "metadata": {},
     "output_type": "execute_result"
    }
   ],
   "source": [
    "# method declared in the sys module\n",
    "sys.getdefaultencoding()"
   ]
  },
  {
   "cell_type": "markdown",
   "metadata": {
    "deletable": true,
    "editable": true
   },
   "source": [
    "Remember: in python everyting is an object, even modules. Therefore modules have methods (functions) and properties (variables defined in this namespace)."
   ]
  },
  {
   "cell_type": "markdown",
   "metadata": {
    "deletable": true,
    "editable": true
   },
   "source": [
    "Sometimes we have to import modules that are defined inside other modules (sub-packages).\n",
    "In this case, one can use the syntax:"
   ]
  },
  {
   "cell_type": "code",
   "execution_count": 9,
   "metadata": {
    "collapsed": false,
    "deletable": true,
    "editable": true
   },
   "outputs": [],
   "source": [
    "import abipy.abilab as abilab"
   ]
  },
  {
   "cell_type": "markdown",
   "metadata": {
    "deletable": true,
    "editable": true
   },
   "source": [
    "that allows us to use `abilab` as reference to the module instead of the full qualified \n",
    "name `abipy.abilab`."
   ]
  },
  {
   "cell_type": "markdown",
   "metadata": {
    "deletable": true,
    "editable": true
   },
   "source": [
    "`Classes` and `instances`\n",
    "-------------------------"
   ]
  },
  {
   "cell_type": "markdown",
   "metadata": {
    "deletable": true,
    "editable": true
   },
   "source": [
    "A class is a mechanism Python gives us to create new user-defined types from Python code whereas\n",
    "instances are the objects created starting from a class.\n",
    "A common convention in python is to use `CamelCase` names for classes and lower case names for instances."
   ]
  },
  {
   "cell_type": "code",
   "execution_count": 10,
   "metadata": {
    "collapsed": false,
    "deletable": true,
    "editable": true
   },
   "outputs": [
    {
     "name": "stdout",
     "output_type": "stream",
     "text": [
      "<__main__.FooClass object at 0x11ba26590> <class '__main__.FooClass'>\n"
     ]
    }
   ],
   "source": [
    "class FooClass(object):\n",
    "    \"\"\"A very simple class\"\"\"\n",
    "    \n",
    "# Create an instance of type Foo.\n",
    "foo_instance = FooClass()\n",
    "\n",
    "print(foo_instance, FooClass)"
   ]
  },
  {
   "cell_type": "markdown",
   "metadata": {
    "deletable": true,
    "editable": true
   },
   "source": [
    "So, `foo_instance` is an instance of the type `FooClass`.\n",
    "Once equipped with these concepts, we can finally discuss the following piece of code: "
   ]
  },
  {
   "cell_type": "code",
   "execution_count": 11,
   "metadata": {
    "collapsed": false,
    "deletable": true,
    "editable": true
   },
   "outputs": [],
   "source": [
    "import abipy.data as abidata\n",
    "cif_file = abidata.cif_file(\"si.cif\")\n",
    "\n",
    "import abipy.abilab as abilab\n",
    "structure = abilab.Structure.from_file(cif_file)"
   ]
  },
  {
   "cell_type": "markdown",
   "metadata": {
    "deletable": true,
    "editable": true
   },
   "source": [
    "`abipy.data` is an abipy module and `cif_file` is a function (defined in this module)\n",
    "that returns the absolute path of the CIF file \"si.cif\".\n",
    "Since we don't want to type `abipy.data` every time we need it, we create the alias `abidata` \n",
    "so that we can simply use `abidata.cif_file` instead of the more verbose `abipy.data.cif_file`.\n",
    "\n",
    "`abipy.abilab` is a high-level AbiPy module that provides the most important functions and objects for end-users. Also in this case we create a handy alias, `abilab`, to reduce time typing.\n",
    "\n",
    "The last line (the most important) constructs an instance of type `Structure` from a string giving\n",
    "the absolute path to a CIF file.\n",
    "Let's use `print` to dissect the different objects:"
   ]
  },
  {
   "cell_type": "code",
   "execution_count": 12,
   "metadata": {
    "collapsed": false,
    "deletable": true,
    "editable": true
   },
   "outputs": [
    {
     "name": "stdout",
     "output_type": "stream",
     "text": [
      "abidata is:  <type 'module'>\n",
      "abidata.cif_file is:  <type 'function'>\n",
      "Structure is:  <class 'abc.ABCMeta'>\n",
      "Structure.from_file is:  <type 'instancemethod'>\n",
      "structure is an instance of type  <class 'abipy.core.structure.Structure'>\n"
     ]
    }
   ],
   "source": [
    "print(\"abidata is: \", type(abidata))\n",
    "print(\"abidata.cif_file is: \", type(abidata.cif_file))\n",
    "print(\"Structure is: \", type(abilab.Structure))\n",
    "print(\"Structure.from_file is: \", type(abilab.Structure.from_file))\n",
    "print(\"structure is an instance of type \", type(structure))"
   ]
  },
  {
   "cell_type": "markdown",
   "metadata": {
    "deletable": true,
    "editable": true
   },
   "source": [
    "The main message here is that `abilab.Structure.from_file` has created an `instance` of the *class* `Structure`  from a CIF file.\n",
    "We can now have access to all the properties and methods provided by this object:"
   ]
  },
  {
   "cell_type": "code",
   "execution_count": 13,
   "metadata": {
    "collapsed": false,
    "deletable": true,
    "editable": true
   },
   "outputs": [
    {
     "name": "stdout",
     "output_type": "stream",
     "text": [
      "Unit cell volume:  40.8882917935\n",
      "Reciprocal lattice vectors:\n",
      " 1.876195 -0.663335 0.000000\n",
      "0.000000 1.990005 0.000000\n",
      "-0.938097 -0.663335 1.624832\n"
     ]
    }
   ],
   "source": [
    "print(\"Unit cell volume: \", structure.volume)\n",
    "print(\"Reciprocal lattice vectors:\\n\", structure.reciprocal_lattice)"
   ]
  },
  {
   "cell_type": "markdown",
   "metadata": {
    "deletable": true,
    "editable": true
   },
   "source": [
    "Dissecting objects\n",
    "------------------\n",
    "\n",
    "The first think you should do when you have some python object you don't know how to use\n",
    "is **printing** the object:"
   ]
  },
  {
   "cell_type": "code",
   "execution_count": 14,
   "metadata": {
    "collapsed": false,
    "deletable": true,
    "editable": true
   },
   "outputs": [
    {
     "name": "stdout",
     "output_type": "stream",
     "text": [
      "Full Formula (Si2)\n",
      "Reduced Formula: Si\n",
      "abc   :   3.866975   3.866975   3.866975\n",
      "angles:  60.000000  60.000000  60.000000\n",
      "Sites (2)\n",
      "  #  SP       a     b     c\n",
      "---  ----  ----  ----  ----\n",
      "  0  Si    0     0     0\n",
      "  1  Si    0.25  0.25  0.25\n"
     ]
    }
   ],
   "source": [
    "print(structure)"
   ]
  },
  {
   "cell_type": "markdown",
   "metadata": {
    "deletable": true,
    "editable": true
   },
   "source": [
    "If you want to know the class who has generated your object, use `type`:"
   ]
  },
  {
   "cell_type": "code",
   "execution_count": 15,
   "metadata": {
    "collapsed": false,
    "deletable": true,
    "editable": true
   },
   "outputs": [
    {
     "data": {
      "text/plain": [
       "abipy.core.structure.Structure"
      ]
     },
     "execution_count": 15,
     "metadata": {},
     "output_type": "execute_result"
    }
   ],
   "source": [
    "type(structure)"
   ]
  },
  {
   "cell_type": "markdown",
   "metadata": {
    "deletable": true,
    "editable": true
   },
   "source": [
    "Use `help` if you want to get the documentation of the object: "
   ]
  },
  {
   "cell_type": "code",
   "execution_count": 16,
   "metadata": {
    "collapsed": false,
    "deletable": true,
    "editable": true
   },
   "outputs": [
    {
     "name": "stdout",
     "output_type": "stream",
     "text": [
      "Help on method from_file in module abipy.core.structure:\n",
      "\n",
      "from_file(cls, filepath, primitive=False, sort=False) method of abc.ABCMeta instance\n",
      "    Reads a structure from a file. For example, anything ending in\n",
      "    a \"cif\" is assumed to be a Crystallographic Information Format file.\n",
      "    Supported formats include CIF, POSCAR/CONTCAR, CHGCAR, LOCPOT,\n",
      "    vasprun.xml, CSSR, Netcdf and pymatgen's JSON serialized structures.\n",
      "    \n",
      "    Netcdf files supported:\n",
      "        All files produced by ABINIT with info of the crystalline geometry\n",
      "        HIST_FILEs, in this case the last structure of the history is returned.\n",
      "    \n",
      "    Args:\n",
      "        filename (str): The filename to read from.\n",
      "        primitive (bool): Whether to convert to a primitive cell\n",
      "            Only available for cifs, POSCAR, CSSR, JSON, YAML\n",
      "            Defaults to True.\n",
      "        sort (bool): Whether to sort sites. Default to False.\n",
      "    \n",
      "    Returns:\n",
      "        :class:`Structure` object\n",
      "\n"
     ]
    }
   ],
   "source": [
    "help(abilab.Structure.from_file)"
   ]
  },
  {
   "cell_type": "markdown",
   "metadata": {
    "deletable": true,
    "editable": true
   },
   "source": [
    "Use `dir(object)` to list the properties and the methods of object"
   ]
  },
  {
   "cell_type": "code",
   "execution_count": 17,
   "metadata": {
    "collapsed": false,
    "deletable": true,
    "editable": true
   },
   "outputs": [
    {
     "name": "stdout",
     "output_type": "stream",
     "text": [
      "['__add__', '__class__', '__contains__', '__delattr__', '__delitem__', '__delslice__', '__doc__', '__eq__', '__format__', '__ge__', '__getattribute__', '__getitem__', '__getslice__', '__gt__', '__hash__', '__iadd__', '__imul__', '__init__', '__iter__', '__le__', '__len__', '__lt__', '__mul__', '__ne__', '__new__', '__reduce__', '__reduce_ex__', '__repr__', '__reversed__', '__rmul__', '__setattr__', '__setitem__', '__setslice__', '__sizeof__', '__str__', '__subclasshook__', 'append', 'count', 'extend', 'index', 'insert', 'pop', 'remove', 'reverse', 'sort']\n"
     ]
    }
   ],
   "source": [
    "a = [1,2,3]\n",
    "print(dir(a))"
   ]
  }
 ],
 "metadata": {
  "kernelspec": {
   "display_name": "Python 2",
   "language": "python",
   "name": "python2"
  },
  "language_info": {
   "codemirror_mode": {
    "name": "ipython",
    "version": 2
   },
   "file_extension": ".py",
   "mimetype": "text/x-python",
   "name": "python",
   "nbconvert_exporter": "python",
   "pygments_lexer": "ipython2",
   "version": "2.7.13"
  },
  "latex_envs": {
   "bibliofile": "biblio.bib",
   "cite_by": "apalike",
   "current_citInitial": 1,
   "eqLabelWithNumbers": true,
   "eqNumInitial": 0
  }
 },
 "nbformat": 4,
 "nbformat_minor": 0
}
